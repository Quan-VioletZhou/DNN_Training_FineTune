{
 "cells": [
  {
   "cell_type": "code",
   "execution_count": null,
   "metadata": {},
   "outputs": [],
   "source": [
    "import pandas as pd\n",
    "from pydub import AudioSegment\n",
    "import os\n",
    "\n",
    "# Load the CSV file with track info\n",
    "tracks_df = pd.read_csv(r'D:\\DNN\\Training_data\\fma_metadata\\fma_metadata\\tracks.csv', header=1)\n",
    "\n",
    "# Display the first few rows to understand the structure\n",
    "# print(tracks_df.head())\n",
    "\n",
    "\n",
    "# Define the input folder where MP3 files are stored\n",
    "input_folder = r\"D:\\DNN\\Training_data\\fma_small\\000\"  # Replace with your actual folder path\n",
    "output_folder = r\"D:\\DNN\\Training_data\\Test\"  # Replace with your desired folder for saving clips\n",
    "\n",
    "if not os.path.exists(output_folder):\n",
    "    os.makedirs(output_folder)\n",
    "\n",
    "# Extract 2-second clips for each track\n",
    "for index, row in tracks_df.iterrows():\n",
    "    track_id = row['track_id']\n",
    "    genre = row['genre_top']  # Assuming the genre column is named 'genre'\n",
    "\n",
    "    # Ensure track_id is zero-padded to 6 digits\n",
    "    track_path = os.path.join(input_folder, f\"{track_id.zfill(6)}.mp3\")\n",
    "\n",
    "    print(track_path)\n",
    "\n",
    "\n",
    "    if os.path.exists(track_path):\n",
    "        # Load the track\n",
    "        song = AudioSegment.from_mp3(track_path)\n",
    "\n",
    "        # Extract 2-second clip\n",
    "        clip = song[:2000]  # 2000 ms = 2 seconds\n",
    "\n",
    "        # Export the clip as WAV\n",
    "        clip.export(os.path.join(output_folder, f\"{track_id}_{genre}.mp3\"), format=\"mp3\")\n",
    "\n",
    "        print(f\"Processed {track_id} - {genre}\")\n"
   ]
  },
  {
   "cell_type": "code",
   "execution_count": 3,
   "metadata": {},
   "outputs": [
    {
     "name": "stderr",
     "output_type": "stream",
     "text": [
      "c:\\Users\\quanz\\AppData\\Local\\Programs\\Python\\Python311\\Lib\\site-packages\\deeplake\\util\\check_latest_version.py:32: UserWarning: A newer version of deeplake (4.1.6) is available. It's recommended that you update to the latest version using `pip install -U deeplake`.\n",
      "  warnings.warn(\n",
      "/"
     ]
    },
    {
     "name": "stdout",
     "output_type": "stream",
     "text": [
      "Opening dataset in read-only mode as you don't have write permissions.\n"
     ]
    },
    {
     "name": "stderr",
     "output_type": "stream",
     "text": [
      "\\"
     ]
    },
    {
     "name": "stdout",
     "output_type": "stream",
     "text": [
      "This dataset can be visualized in Jupyter Notebook by ds.visualize() or at https://app.activeloop.ai/activeloop/timit-train\n",
      "\n"
     ]
    },
    {
     "name": "stderr",
     "output_type": "stream",
     "text": [
      "-"
     ]
    },
    {
     "name": "stdout",
     "output_type": "stream",
     "text": [
      "hub://activeloop/timit-train loaded successfully.\n",
      "\n"
     ]
    },
    {
     "name": "stderr",
     "output_type": "stream",
     "text": [
      " "
     ]
    }
   ],
   "source": [
    "import deeplake\n",
    "ds = deeplake.load(\"hub://activeloop/timit-train\")"
   ]
  },
  {
   "cell_type": "code",
   "execution_count": 7,
   "metadata": {},
   "outputs": [
    {
     "data": {
      "text/html": [
       "<pre style=\"white-space:pre;overflow-x:auto;line-height:normal;font-family:Menlo,'DejaVu Sans Mono',consolas,'Courier New',monospace\">+-----------+-----------------------------------------------------------------------------------------------------+\n",
       "|<span style=\"color: #008080; text-decoration-color: #008080; font-weight: bold\"> Field     </span>|<span style=\"color: #008080; text-decoration-color: #008080; font-weight: bold\"> Content                                                                                             </span>|\n",
       "+-----------+-----------------------------------------------------------------------------------------------------+\n",
       "| Name      | OpenDataLab/TIMIT                                                                                   |\n",
       "+-----------+-----------------------------------------------------------------------------------------------------+\n",
       "| Introduct | The  TIMIT  corpus  of  reading  speech  has  been   developed   to   provide   speech   data   for |\n",
       "| ion       | acoustic-phoneti...                                                                                 |\n",
       "+-----------+-----------------------------------------------------------------------------------------------------+\n",
       "| Author    | Linguistic Data Consortium                                                                          |\n",
       "+-----------+-----------------------------------------------------------------------------------------------------+\n",
       "| Data Type | Audio                                                                                               |\n",
       "+-----------+-----------------------------------------------------------------------------------------------------+\n",
       "| Label     | Text, English Corpus                                                                                |\n",
       "| Type      |                                                                                                     |\n",
       "+-----------+-----------------------------------------------------------------------------------------------------+\n",
       "| Task Type | Speech Recognition                                                                                  |\n",
       "+-----------+-----------------------------------------------------------------------------------------------------+\n",
       "| File List |  Total Size: 828.9M                                                                                 |\n",
       "|           |  +--------------------------+---------+                                                             |\n",
       "|           |  |<span style=\"color: #008080; text-decoration-color: #008080\"> File                     </span>|<span style=\"color: #008080; text-decoration-color: #008080\">    Size </span>|                                                             |\n",
       "|           |  +--------------------------+---------+                                                             |\n",
       "|           |  | - /                      |         |                                                             |\n",
       "|           |  +--------------------------+---------+                                                             |\n",
       "|           |  |    - README.md           | 493.00B |                                                             |\n",
       "|           |  +--------------------------+---------+                                                             |\n",
       "|           |  |    - metafile.yaml       | 314.00B |                                                             |\n",
       "|           |  +--------------------------+---------+                                                             |\n",
       "|           |  | - /raw/                  |         |                                                             |\n",
       "|           |  +--------------------------+---------+                                                             |\n",
       "|           |  |    - timit.zip           | 828.75M |                                                             |\n",
       "|           |  +--------------------------+---------+                                                             |\n",
       "|           |  | - /sample/               |         |                                                             |\n",
       "|           |  +--------------------------+---------+                                                             |\n",
       "|           |  |    - audio/SA1 (4).mp3   |  15.27K |                                                             |\n",
       "|           |  +--------------------------+---------+                                                             |\n",
       "|           |  |    - audio/SX409.WAV.mp3 |  58.40K |                                                             |\n",
       "|           |  +--------------------------+---------+                                                             |\n",
       "|           |  |    - audio/SX409.mp3     |  11.90K |                                                             |\n",
       "|           |  +--------------------------+---------+                                                             |\n",
       "|           |  |    - audio/SX49.WAV.mp3  |  45.75K |                                                             |\n",
       "|           |  +--------------------------+---------+                                                             |\n",
       "|           |  |    - audio/SX49.mp3      |   9.37K |                                                             |\n",
       "|           |  +--------------------------+---------+                                                             |\n",
       "+-----------+-----------------------------------------------------------------------------------------------------+\n",
       "</pre>\n"
      ],
      "text/plain": [
       "+-----------+-----------------------------------------------------------------------------------------------------+\n",
       "|\u001b[1;36m \u001b[0m\u001b[1;36mField\u001b[0m\u001b[1;36m    \u001b[0m\u001b[1;36m \u001b[0m|\u001b[1;36m \u001b[0m\u001b[1;36mContent\u001b[0m\u001b[1;36m                                                                                            \u001b[0m\u001b[1;36m \u001b[0m|\n",
       "+-----------+-----------------------------------------------------------------------------------------------------+\n",
       "| Name      | OpenDataLab/TIMIT                                                                                   |\n",
       "+-----------+-----------------------------------------------------------------------------------------------------+\n",
       "| Introduct | The  TIMIT  corpus  of  reading  speech  has  been   developed   to   provide   speech   data   for |\n",
       "| ion       | acoustic-phoneti...                                                                                 |\n",
       "+-----------+-----------------------------------------------------------------------------------------------------+\n",
       "| Author    | Linguistic Data Consortium                                                                          |\n",
       "+-----------+-----------------------------------------------------------------------------------------------------+\n",
       "| Data Type | Audio                                                                                               |\n",
       "+-----------+-----------------------------------------------------------------------------------------------------+\n",
       "| Label     | Text, English Corpus                                                                                |\n",
       "| Type      |                                                                                                     |\n",
       "+-----------+-----------------------------------------------------------------------------------------------------+\n",
       "| Task Type | Speech Recognition                                                                                  |\n",
       "+-----------+-----------------------------------------------------------------------------------------------------+\n",
       "| File List |  Total Size: 828.9M                                                                                 |\n",
       "|           |  +--------------------------+---------+                                                             |\n",
       "|           |  |\u001b[36m \u001b[0m\u001b[36mFile                    \u001b[0m\u001b[36m \u001b[0m|\u001b[36m \u001b[0m\u001b[36m   Size\u001b[0m\u001b[36m \u001b[0m|                                                             |\n",
       "|           |  +--------------------------+---------+                                                             |\n",
       "|           |  | - /                      |         |                                                             |\n",
       "|           |  +--------------------------+---------+                                                             |\n",
       "|           |  |    - README.md           | 493.00B |                                                             |\n",
       "|           |  +--------------------------+---------+                                                             |\n",
       "|           |  |    - metafile.yaml       | 314.00B |                                                             |\n",
       "|           |  +--------------------------+---------+                                                             |\n",
       "|           |  | - /raw/                  |         |                                                             |\n",
       "|           |  +--------------------------+---------+                                                             |\n",
       "|           |  |    - timit.zip           | 828.75M |                                                             |\n",
       "|           |  +--------------------------+---------+                                                             |\n",
       "|           |  | - /sample/               |         |                                                             |\n",
       "|           |  +--------------------------+---------+                                                             |\n",
       "|           |  |    - audio/SA1 (4).mp3   |  15.27K |                                                             |\n",
       "|           |  +--------------------------+---------+                                                             |\n",
       "|           |  |    - audio/SX409.WAV.mp3 |  58.40K |                                                             |\n",
       "|           |  +--------------------------+---------+                                                             |\n",
       "|           |  |    - audio/SX409.mp3     |  11.90K |                                                             |\n",
       "|           |  +--------------------------+---------+                                                             |\n",
       "|           |  |    - audio/SX49.WAV.mp3  |  45.75K |                                                             |\n",
       "|           |  +--------------------------+---------+                                                             |\n",
       "|           |  |    - audio/SX49.mp3      |   9.37K |                                                             |\n",
       "|           |  +--------------------------+---------+                                                             |\n",
       "+-----------+-----------------------------------------------------------------------------------------------------+\n"
      ]
     },
     "metadata": {},
     "output_type": "display_data"
    },
    {
     "data": {
      "text/html": [
       "<pre style=\"white-space:pre;overflow-x:auto;line-height:normal;font-family:Menlo,'DejaVu Sans Mono',consolas,'Courier New',monospace\">Fetching the list of datasets<span style=\"color: #808000; text-decoration-color: #808000\">...</span>\n",
       "</pre>\n"
      ],
      "text/plain": [
       "Fetching the list of datasets\u001b[33m...\u001b[0m\n"
      ]
     },
     "metadata": {},
     "output_type": "display_data"
    },
    {
     "data": {
      "text/html": [
       "<pre style=\"white-space:pre;overflow-x:auto;line-height:normal;font-family:Menlo,'DejaVu Sans Mono',consolas,'Courier New',monospace\">Downloading <span style=\"color: #008080; text-decoration-color: #008080; font-weight: bold\">8</span> files: \n",
       "</pre>\n"
      ],
      "text/plain": [
       "Downloading \u001b[1;36m8\u001b[0m files: \n"
      ]
     },
     "metadata": {},
     "output_type": "display_data"
    },
    {
     "data": {
      "text/html": [
       "<pre style=\"white-space:pre;overflow-x:auto;line-height:normal;font-family:Menlo,'DejaVu Sans Mono',consolas,'Courier New',monospace\"><span style=\"color: #008080; text-decoration-color: #008080; font-weight: bold\">1</span>. file: README.md, size: <span style=\"color: #008080; text-decoration-color: #008080; font-weight: bold\">493.</span>00B, progress: <span style=\"color: #008080; text-decoration-color: #008080; font-weight: bold\">100</span>%\n",
       "</pre>\n"
      ],
      "text/plain": [
       "\u001b[1;36m1\u001b[0m. file: README.md, size: \u001b[1;36m493.\u001b[0m00B, progress: \u001b[1;36m100\u001b[0m%\n"
      ]
     },
     "metadata": {},
     "output_type": "display_data"
    },
    {
     "data": {
      "text/html": [
       "<pre style=\"white-space:pre;overflow-x:auto;line-height:normal;font-family:Menlo,'DejaVu Sans Mono',consolas,'Courier New',monospace\">Total progress: <span style=\"color: #008080; text-decoration-color: #008080; font-weight: bold\">0</span>%, total files:<span style=\"color: #008080; text-decoration-color: #008080; font-weight: bold\">1</span>/<span style=\"color: #008080; text-decoration-color: #008080; font-weight: bold\">8</span>, downloaded size: <span style=\"color: #008080; text-decoration-color: #008080; font-weight: bold\">493.</span>0B, total size: <span style=\"color: #008080; text-decoration-color: #008080; font-weight: bold\">828.</span>9M</pre>\n"
      ],
      "text/plain": [
       "Total progress: \u001b[1;36m0\u001b[0m%, total files:\u001b[1;36m1\u001b[0m/\u001b[1;36m8\u001b[0m, downloaded size: \u001b[1;36m493.\u001b[0m0B, total size: \u001b[1;36m828.\u001b[0m9M"
      ]
     },
     "metadata": {},
     "output_type": "display_data"
    },
    {
     "name": "stdout",
     "output_type": "stream",
     "text": [
      "\u001b[2K\r"
     ]
    },
    {
     "data": {
      "text/html": [
       "<pre style=\"white-space:pre;overflow-x:auto;line-height:normal;font-family:Menlo,'DejaVu Sans Mono',consolas,'Courier New',monospace\"><span style=\"color: #008080; text-decoration-color: #008080; font-weight: bold\">2</span>. file: metafile.yaml, size: <span style=\"color: #008080; text-decoration-color: #008080; font-weight: bold\">314.</span>00B, progress: <span style=\"color: #008080; text-decoration-color: #008080; font-weight: bold\">100</span>%\n",
       "</pre>\n"
      ],
      "text/plain": [
       "\u001b[1;36m2\u001b[0m. file: metafile.yaml, size: \u001b[1;36m314.\u001b[0m00B, progress: \u001b[1;36m100\u001b[0m%\n"
      ]
     },
     "metadata": {},
     "output_type": "display_data"
    },
    {
     "data": {
      "text/html": [
       "<pre style=\"white-space:pre;overflow-x:auto;line-height:normal;font-family:Menlo,'DejaVu Sans Mono',consolas,'Courier New',monospace\">Total progress: <span style=\"color: #008080; text-decoration-color: #008080; font-weight: bold\">0</span>%, total files:<span style=\"color: #008080; text-decoration-color: #008080; font-weight: bold\">2</span>/<span style=\"color: #008080; text-decoration-color: #008080; font-weight: bold\">8</span>, downloaded size: <span style=\"color: #008080; text-decoration-color: #008080; font-weight: bold\">807.</span>0B, total size: <span style=\"color: #008080; text-decoration-color: #008080; font-weight: bold\">828.</span>9M</pre>\n"
      ],
      "text/plain": [
       "Total progress: \u001b[1;36m0\u001b[0m%, total files:\u001b[1;36m2\u001b[0m/\u001b[1;36m8\u001b[0m, downloaded size: \u001b[1;36m807.\u001b[0m0B, total size: \u001b[1;36m828.\u001b[0m9M"
      ]
     },
     "metadata": {},
     "output_type": "display_data"
    },
    {
     "name": "stdout",
     "output_type": "stream",
     "text": [
      "\n",
      "\u001b[1A\u001b[2K\u001b[1B\u001b[2K\u001b[1Adownload info] File Progress: 99.79 % | Speed: 12.5 MB/s | Number of Workers: 2 | Time Elapsed: 73s | ETA: 0.14sss000.00s\r"
     ]
    },
    {
     "data": {
      "text/html": [
       "<pre style=\"white-space:pre;overflow-x:auto;line-height:normal;font-family:Menlo,'DejaVu Sans Mono',consolas,'Courier New',monospace\"><span style=\"color: #008080; text-decoration-color: #008080; font-weight: bold\">3</span>. file: raw/timit.zip, size: <span style=\"color: #008080; text-decoration-color: #008080; font-weight: bold\">828.</span>75M, progress: <span style=\"color: #008080; text-decoration-color: #008080; font-weight: bold\">100</span>%\n",
       "</pre>\n"
      ],
      "text/plain": [
       "\u001b[1;36m3\u001b[0m. file: raw/timit.zip, size: \u001b[1;36m828.\u001b[0m75M, progress: \u001b[1;36m100\u001b[0m%\n"
      ]
     },
     "metadata": {},
     "output_type": "display_data"
    },
    {
     "data": {
      "text/html": [
       "<pre style=\"white-space:pre;overflow-x:auto;line-height:normal;font-family:Menlo,'DejaVu Sans Mono',consolas,'Courier New',monospace\">Total progress: <span style=\"color: #008080; text-decoration-color: #008080; font-weight: bold\">100</span>%, total files:<span style=\"color: #008080; text-decoration-color: #008080; font-weight: bold\">3</span>/<span style=\"color: #008080; text-decoration-color: #008080; font-weight: bold\">8</span>, downloaded size: <span style=\"color: #008080; text-decoration-color: #008080; font-weight: bold\">828.</span>8M, total size: <span style=\"color: #008080; text-decoration-color: #008080; font-weight: bold\">828.</span>9M</pre>\n"
      ],
      "text/plain": [
       "Total progress: \u001b[1;36m100\u001b[0m%, total files:\u001b[1;36m3\u001b[0m/\u001b[1;36m8\u001b[0m, downloaded size: \u001b[1;36m828.\u001b[0m8M, total size: \u001b[1;36m828.\u001b[0m9M"
      ]
     },
     "metadata": {},
     "output_type": "display_data"
    },
    {
     "name": "stdout",
     "output_type": "stream",
     "text": [
      "\u001b[2K\r"
     ]
    },
    {
     "data": {
      "text/html": [
       "<pre style=\"white-space:pre;overflow-x:auto;line-height:normal;font-family:Menlo,'DejaVu Sans Mono',consolas,'Courier New',monospace\"><span style=\"color: #008080; text-decoration-color: #008080; font-weight: bold\">4</span>. file: sample/audio/SA1 <span style=\"font-weight: bold\">(</span><span style=\"color: #008080; text-decoration-color: #008080; font-weight: bold\">4</span><span style=\"font-weight: bold\">)</span>.mp3, size: <span style=\"color: #008080; text-decoration-color: #008080; font-weight: bold\">15.</span>27K, progress: <span style=\"color: #008080; text-decoration-color: #008080; font-weight: bold\">100</span>%\n",
       "</pre>\n"
      ],
      "text/plain": [
       "\u001b[1;36m4\u001b[0m. file: sample/audio/SA1 \u001b[1m(\u001b[0m\u001b[1;36m4\u001b[0m\u001b[1m)\u001b[0m.mp3, size: \u001b[1;36m15.\u001b[0m27K, progress: \u001b[1;36m100\u001b[0m%\n"
      ]
     },
     "metadata": {},
     "output_type": "display_data"
    },
    {
     "data": {
      "text/html": [
       "<pre style=\"white-space:pre;overflow-x:auto;line-height:normal;font-family:Menlo,'DejaVu Sans Mono',consolas,'Courier New',monospace\">Total progress: <span style=\"color: #008080; text-decoration-color: #008080; font-weight: bold\">100</span>%, total files:<span style=\"color: #008080; text-decoration-color: #008080; font-weight: bold\">4</span>/<span style=\"color: #008080; text-decoration-color: #008080; font-weight: bold\">8</span>, downloaded size: <span style=\"color: #008080; text-decoration-color: #008080; font-weight: bold\">828.</span>8M, total size: <span style=\"color: #008080; text-decoration-color: #008080; font-weight: bold\">828.</span>9M</pre>\n"
      ],
      "text/plain": [
       "Total progress: \u001b[1;36m100\u001b[0m%, total files:\u001b[1;36m4\u001b[0m/\u001b[1;36m8\u001b[0m, downloaded size: \u001b[1;36m828.\u001b[0m8M, total size: \u001b[1;36m828.\u001b[0m9M"
      ]
     },
     "metadata": {},
     "output_type": "display_data"
    },
    {
     "name": "stdout",
     "output_type": "stream",
     "text": [
      "\u001b[2K\r"
     ]
    },
    {
     "data": {
      "text/html": [
       "<pre style=\"white-space:pre;overflow-x:auto;line-height:normal;font-family:Menlo,'DejaVu Sans Mono',consolas,'Courier New',monospace\"><span style=\"color: #008080; text-decoration-color: #008080; font-weight: bold\">5</span>. file: sample/audio/SX409.WAV.mp3, size: <span style=\"color: #008080; text-decoration-color: #008080; font-weight: bold\">58.</span>40K, progress: <span style=\"color: #008080; text-decoration-color: #008080; font-weight: bold\">100</span>%\n",
       "</pre>\n"
      ],
      "text/plain": [
       "\u001b[1;36m5\u001b[0m. file: sample/audio/SX409.WAV.mp3, size: \u001b[1;36m58.\u001b[0m40K, progress: \u001b[1;36m100\u001b[0m%\n"
      ]
     },
     "metadata": {},
     "output_type": "display_data"
    },
    {
     "data": {
      "text/html": [
       "<pre style=\"white-space:pre;overflow-x:auto;line-height:normal;font-family:Menlo,'DejaVu Sans Mono',consolas,'Courier New',monospace\">Total progress: <span style=\"color: #008080; text-decoration-color: #008080; font-weight: bold\">100</span>%, total files:<span style=\"color: #008080; text-decoration-color: #008080; font-weight: bold\">5</span>/<span style=\"color: #008080; text-decoration-color: #008080; font-weight: bold\">8</span>, downloaded size: <span style=\"color: #008080; text-decoration-color: #008080; font-weight: bold\">828.</span>8M, total size: <span style=\"color: #008080; text-decoration-color: #008080; font-weight: bold\">828.</span>9M</pre>\n"
      ],
      "text/plain": [
       "Total progress: \u001b[1;36m100\u001b[0m%, total files:\u001b[1;36m5\u001b[0m/\u001b[1;36m8\u001b[0m, downloaded size: \u001b[1;36m828.\u001b[0m8M, total size: \u001b[1;36m828.\u001b[0m9M"
      ]
     },
     "metadata": {},
     "output_type": "display_data"
    },
    {
     "name": "stdout",
     "output_type": "stream",
     "text": [
      "\u001b[2K\r"
     ]
    },
    {
     "data": {
      "text/html": [
       "<pre style=\"white-space:pre;overflow-x:auto;line-height:normal;font-family:Menlo,'DejaVu Sans Mono',consolas,'Courier New',monospace\"><span style=\"color: #008080; text-decoration-color: #008080; font-weight: bold\">6</span>. file: sample/audio/SX409.mp3, size: <span style=\"color: #008080; text-decoration-color: #008080; font-weight: bold\">11.</span>90K, progress: <span style=\"color: #008080; text-decoration-color: #008080; font-weight: bold\">100</span>%\n",
       "</pre>\n"
      ],
      "text/plain": [
       "\u001b[1;36m6\u001b[0m. file: sample/audio/SX409.mp3, size: \u001b[1;36m11.\u001b[0m90K, progress: \u001b[1;36m100\u001b[0m%\n"
      ]
     },
     "metadata": {},
     "output_type": "display_data"
    },
    {
     "data": {
      "text/html": [
       "<pre style=\"white-space:pre;overflow-x:auto;line-height:normal;font-family:Menlo,'DejaVu Sans Mono',consolas,'Courier New',monospace\">Total progress: <span style=\"color: #008080; text-decoration-color: #008080; font-weight: bold\">100</span>%, total files:<span style=\"color: #008080; text-decoration-color: #008080; font-weight: bold\">6</span>/<span style=\"color: #008080; text-decoration-color: #008080; font-weight: bold\">8</span>, downloaded size: <span style=\"color: #008080; text-decoration-color: #008080; font-weight: bold\">828.</span>8M, total size: <span style=\"color: #008080; text-decoration-color: #008080; font-weight: bold\">828.</span>9M</pre>\n"
      ],
      "text/plain": [
       "Total progress: \u001b[1;36m100\u001b[0m%, total files:\u001b[1;36m6\u001b[0m/\u001b[1;36m8\u001b[0m, downloaded size: \u001b[1;36m828.\u001b[0m8M, total size: \u001b[1;36m828.\u001b[0m9M"
      ]
     },
     "metadata": {},
     "output_type": "display_data"
    },
    {
     "name": "stdout",
     "output_type": "stream",
     "text": [
      "\u001b[2K\r"
     ]
    },
    {
     "data": {
      "text/html": [
       "<pre style=\"white-space:pre;overflow-x:auto;line-height:normal;font-family:Menlo,'DejaVu Sans Mono',consolas,'Courier New',monospace\"><span style=\"color: #008080; text-decoration-color: #008080; font-weight: bold\">7</span>. file: sample/audio/SX49.WAV.mp3, size: <span style=\"color: #008080; text-decoration-color: #008080; font-weight: bold\">45.</span>75K, progress: <span style=\"color: #008080; text-decoration-color: #008080; font-weight: bold\">100</span>%\n",
       "</pre>\n"
      ],
      "text/plain": [
       "\u001b[1;36m7\u001b[0m. file: sample/audio/SX49.WAV.mp3, size: \u001b[1;36m45.\u001b[0m75K, progress: \u001b[1;36m100\u001b[0m%\n"
      ]
     },
     "metadata": {},
     "output_type": "display_data"
    },
    {
     "data": {
      "text/html": [
       "<pre style=\"white-space:pre;overflow-x:auto;line-height:normal;font-family:Menlo,'DejaVu Sans Mono',consolas,'Courier New',monospace\">Total progress: <span style=\"color: #008080; text-decoration-color: #008080; font-weight: bold\">100</span>%, total files:<span style=\"color: #008080; text-decoration-color: #008080; font-weight: bold\">7</span>/<span style=\"color: #008080; text-decoration-color: #008080; font-weight: bold\">8</span>, downloaded size: <span style=\"color: #008080; text-decoration-color: #008080; font-weight: bold\">828.</span>9M, total size: <span style=\"color: #008080; text-decoration-color: #008080; font-weight: bold\">828.</span>9M</pre>\n"
      ],
      "text/plain": [
       "Total progress: \u001b[1;36m100\u001b[0m%, total files:\u001b[1;36m7\u001b[0m/\u001b[1;36m8\u001b[0m, downloaded size: \u001b[1;36m828.\u001b[0m9M, total size: \u001b[1;36m828.\u001b[0m9M"
      ]
     },
     "metadata": {},
     "output_type": "display_data"
    },
    {
     "name": "stdout",
     "output_type": "stream",
     "text": [
      "\u001b[2K\r"
     ]
    },
    {
     "data": {
      "text/html": [
       "<pre style=\"white-space:pre;overflow-x:auto;line-height:normal;font-family:Menlo,'DejaVu Sans Mono',consolas,'Courier New',monospace\"><span style=\"color: #008080; text-decoration-color: #008080; font-weight: bold\">8</span>. file: sample/audio/SX49.mp3, size: <span style=\"color: #008080; text-decoration-color: #008080; font-weight: bold\">9.</span>37K, progress: <span style=\"color: #008080; text-decoration-color: #008080; font-weight: bold\">100</span>%\n",
       "</pre>\n"
      ],
      "text/plain": [
       "\u001b[1;36m8\u001b[0m. file: sample/audio/SX49.mp3, size: \u001b[1;36m9.\u001b[0m37K, progress: \u001b[1;36m100\u001b[0m%\n"
      ]
     },
     "metadata": {},
     "output_type": "display_data"
    },
    {
     "data": {
      "text/html": [
       "<pre style=\"white-space:pre;overflow-x:auto;line-height:normal;font-family:Menlo,'DejaVu Sans Mono',consolas,'Courier New',monospace\">Total progress: <span style=\"color: #008080; text-decoration-color: #008080; font-weight: bold\">100</span>%, total files:<span style=\"color: #008080; text-decoration-color: #008080; font-weight: bold\">8</span>/<span style=\"color: #008080; text-decoration-color: #008080; font-weight: bold\">8</span>, downloaded size: <span style=\"color: #008080; text-decoration-color: #008080; font-weight: bold\">828.</span>9M, total size: <span style=\"color: #008080; text-decoration-color: #008080; font-weight: bold\">828.</span>9M\n",
       "</pre>\n"
      ],
      "text/plain": [
       "Total progress: \u001b[1;36m100\u001b[0m%, total files:\u001b[1;36m8\u001b[0m/\u001b[1;36m8\u001b[0m, downloaded size: \u001b[1;36m828.\u001b[0m9M, total size: \u001b[1;36m828.\u001b[0m9M\n"
      ]
     },
     "metadata": {},
     "output_type": "display_data"
    },
    {
     "data": {
      "text/html": [
       "<pre style=\"white-space:pre;overflow-x:auto;line-height:normal;font-family:Menlo,'DejaVu Sans Mono',consolas,'Courier New',monospace\">Download Completed.\n",
       "</pre>\n"
      ],
      "text/plain": [
       "Download Completed.\n"
      ]
     },
     "metadata": {},
     "output_type": "display_data"
    },
    {
     "data": {
      "text/html": [
       "<pre style=\"white-space:pre;overflow-x:auto;line-height:normal;font-family:Menlo,'DejaVu Sans Mono',consolas,'Courier New',monospace\">The folder has been successfully downloaded to D:\\DNN\\Training_data\\OpenDataLab___TIMIT\\sample/audio\n",
       "</pre>\n"
      ],
      "text/plain": [
       "The folder has been successfully downloaded to D:\\DNN\\Training_data\\OpenDataLab___TIMIT\\sample/audio\n"
      ]
     },
     "metadata": {},
     "output_type": "display_data"
    },
    {
     "data": {
      "text/html": [
       "<pre style=\"white-space:pre;overflow-x:auto;line-height:normal;font-family:Menlo,'DejaVu Sans Mono',consolas,'Courier New',monospace\">Fetching the list of files<span style=\"color: #808000; text-decoration-color: #808000\">...</span>\n",
       "</pre>\n"
      ],
      "text/plain": [
       "Fetching the list of files\u001b[33m...\u001b[0m\n"
      ]
     },
     "metadata": {},
     "output_type": "display_data"
    },
    {
     "data": {
      "text/html": [
       "<pre style=\"white-space:pre;overflow-x:auto;line-height:normal;font-family:Menlo,'DejaVu Sans Mono',consolas,'Courier New',monospace\">Downloading <span style=\"color: #008080; text-decoration-color: #008080; font-weight: bold\">1</span> files: \n",
       "</pre>\n"
      ],
      "text/plain": [
       "Downloading \u001b[1;36m1\u001b[0m files: \n"
      ]
     },
     "metadata": {},
     "output_type": "display_data"
    },
    {
     "data": {
      "text/html": [
       "<pre style=\"white-space:pre;overflow-x:auto;line-height:normal;font-family:Menlo,'DejaVu Sans Mono',consolas,'Courier New',monospace\"><span style=\"color: #008080; text-decoration-color: #008080; font-weight: bold\">1</span>. D:\\DNN\\Training_data\\OpenDataLab___TIMIT\\README.md already exists, jumping to next!\n",
       "</pre>\n"
      ],
      "text/plain": [
       "\u001b[1;36m1\u001b[0m. D:\\DNN\\Training_data\\OpenDataLab___TIMIT\\README.md already exists, jumping to next!\n"
      ]
     },
     "metadata": {},
     "output_type": "display_data"
    },
    {
     "data": {
      "text/html": [
       "<pre style=\"white-space:pre;overflow-x:auto;line-height:normal;font-family:Menlo,'DejaVu Sans Mono',consolas,'Courier New',monospace\">Total progress: <span style=\"color: #008080; text-decoration-color: #008080; font-weight: bold\">100</span>%, total files:<span style=\"color: #008080; text-decoration-color: #008080; font-weight: bold\">1</span>/<span style=\"color: #008080; text-decoration-color: #008080; font-weight: bold\">1</span>, downloaded size: <span style=\"color: #008080; text-decoration-color: #008080; font-weight: bold\">493.</span>0B, total size: <span style=\"color: #008080; text-decoration-color: #008080; font-weight: bold\">493.</span>0B</pre>\n"
      ],
      "text/plain": [
       "Total progress: \u001b[1;36m100\u001b[0m%, total files:\u001b[1;36m1\u001b[0m/\u001b[1;36m1\u001b[0m, downloaded size: \u001b[1;36m493.\u001b[0m0B, total size: \u001b[1;36m493.\u001b[0m0B"
      ]
     },
     "metadata": {},
     "output_type": "display_data"
    },
    {
     "name": "stdout",
     "output_type": "stream",
     "text": [
      "\u001b[2K\r"
     ]
    },
    {
     "data": {
      "text/html": [
       "<pre style=\"white-space:pre;overflow-x:auto;line-height:normal;font-family:Menlo,'DejaVu Sans Mono',consolas,'Courier New',monospace\">Total progress: <span style=\"color: #008080; text-decoration-color: #008080; font-weight: bold\">100</span>%, total files:<span style=\"color: #008080; text-decoration-color: #008080; font-weight: bold\">1</span>/<span style=\"color: #008080; text-decoration-color: #008080; font-weight: bold\">1</span>, downloaded size: <span style=\"color: #008080; text-decoration-color: #008080; font-weight: bold\">493.</span>0B, total size: <span style=\"color: #008080; text-decoration-color: #008080; font-weight: bold\">493.</span>0B\n",
       "</pre>\n"
      ],
      "text/plain": [
       "Total progress: \u001b[1;36m100\u001b[0m%, total files:\u001b[1;36m1\u001b[0m/\u001b[1;36m1\u001b[0m, downloaded size: \u001b[1;36m493.\u001b[0m0B, total size: \u001b[1;36m493.\u001b[0m0B\n"
      ]
     },
     "metadata": {},
     "output_type": "display_data"
    },
    {
     "data": {
      "text/html": [
       "<pre style=\"white-space:pre;overflow-x:auto;line-height:normal;font-family:Menlo,'DejaVu Sans Mono',consolas,'Courier New',monospace\">Download Completed.\n",
       "</pre>\n"
      ],
      "text/plain": [
       "Download Completed.\n"
      ]
     },
     "metadata": {},
     "output_type": "display_data"
    },
    {
     "data": {
      "text/html": [
       "<pre style=\"white-space:pre;overflow-x:auto;line-height:normal;font-family:Menlo,'DejaVu Sans Mono',consolas,'Courier New',monospace\">The file has been successfully downloaded to D:\\DNN\\Training_data\\OpenDataLab___TIMIT\\README.md\n",
       "</pre>\n"
      ],
      "text/plain": [
       "The file has been successfully downloaded to D:\\DNN\\Training_data\\OpenDataLab___TIMIT\\README.md\n"
      ]
     },
     "metadata": {},
     "output_type": "display_data"
    }
   ],
   "source": [
    "# pip install openxlab\n",
    "\n",
    "# pip install -U openxlab #版本升级\n",
    "\n",
    "import openxlab\n",
    "\n",
    "openxlab.login(ak='wnjyb2ej5xb59rkmgeb5', sk='qzk8gvqwzvnnormxrjmdom9bgx6jdmp5p2jawbyl') #进行登录，输入对应的AK/SK\n",
    "\n",
    "from openxlab.dataset import info\n",
    "info(dataset_repo='OpenDataLab/TIMIT') #数据集信息及文件列表查看\n",
    "\n",
    "from openxlab.dataset import get\n",
    "get(dataset_repo='OpenDataLab/TIMIT', target_path= r'D:\\DNN\\Training_data') #数据集下载\n",
    "\n",
    "from openxlab.dataset import download\n",
    "download(dataset_repo='OpenDataLab/TIMIT',source_path='/README.md', target_path= r'D:\\DNN\\Training_data') #数据集文件下载"
   ]
  }
 ],
 "metadata": {
  "kernelspec": {
   "display_name": "Python 3",
   "language": "python",
   "name": "python3"
  },
  "language_info": {
   "codemirror_mode": {
    "name": "ipython",
    "version": 3
   },
   "file_extension": ".py",
   "mimetype": "text/x-python",
   "name": "python",
   "nbconvert_exporter": "python",
   "pygments_lexer": "ipython3",
   "version": "3.11.4"
  }
 },
 "nbformat": 4,
 "nbformat_minor": 2
}
